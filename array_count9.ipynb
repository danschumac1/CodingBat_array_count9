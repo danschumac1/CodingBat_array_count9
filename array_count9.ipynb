{
 "cells": [
  {
   "cell_type": "markdown",
   "id": "4f33194c",
   "metadata": {},
   "source": [
    "# Warmup-2 > array_count9"
   ]
  },
  {
   "cell_type": "markdown",
   "id": "d64e4132",
   "metadata": {},
   "source": [
    "Given an array of ints, return the number of 9's in the array.\n",
    "\n",
    "\n",
    "array_count9([1, 2, 9]) → 1\n",
    "array_count9([1, 9, 9]) → 2\n",
    "array_count9([1, 9, 9, 3, 9]) → 3"
   ]
  },
  {
   "cell_type": "code",
   "execution_count": 2,
   "id": "a596f7d6",
   "metadata": {},
   "outputs": [],
   "source": [
    "def array_count9(nums):\n",
    "  count = 0\n",
    "  for num in nums:\n",
    "    if num ==9:\n",
    "      count+=1\n",
    "    else:\n",
    "      pass\n",
    "  return count"
   ]
  }
 ],
 "metadata": {
  "kernelspec": {
   "display_name": "Python 3 (ipykernel)",
   "language": "python",
   "name": "python3"
  },
  "language_info": {
   "codemirror_mode": {
    "name": "ipython",
    "version": 3
   },
   "file_extension": ".py",
   "mimetype": "text/x-python",
   "name": "python",
   "nbconvert_exporter": "python",
   "pygments_lexer": "ipython3",
   "version": "3.9.12"
  }
 },
 "nbformat": 4,
 "nbformat_minor": 5
}
